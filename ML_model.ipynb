{
 "cells": [
  {
   "cell_type": "code",
   "execution_count": 1,
   "id": "a49e8cdf-616a-409b-80eb-b6322d65f7e7",
   "metadata": {},
   "outputs": [],
   "source": [
    "import pandas as pd"
   ]
  },
  {
   "cell_type": "code",
   "execution_count": 2,
   "id": "f1effb58-92ca-4385-83a7-c35cabd1a0f0",
   "metadata": {},
   "outputs": [],
   "source": [
    "model = pd.read_pickle('HousePricePredictor')"
   ]
  },
  {
   "cell_type": "code",
   "execution_count": 3,
   "id": "adf55c4c-0c94-4a04-a67f-7174b125e1e2",
   "metadata": {},
   "outputs": [
    {
     "data": {
      "text/plain": [
       "LinearRegression()"
      ]
     },
     "execution_count": 3,
     "metadata": {},
     "output_type": "execute_result"
    }
   ],
   "source": [
    "model"
   ]
  },
  {
   "cell_type": "code",
   "execution_count": 4,
   "id": "e9d6074e-7bf4-4588-b2fc-5ca3ad9ca530",
   "metadata": {},
   "outputs": [],
   "source": [
    "cols = ['Avg. Area Income','Avg. Area House Age','Avg. Area Number of rooms','Area Population']"
   ]
  },
  {
   "cell_type": "code",
   "execution_count": 5,
   "id": "ec5b59b1-1b96-441a-a7bd-90de1f42e359",
   "metadata": {},
   "outputs": [
    {
     "name": "stdin",
     "output_type": "stream",
     "text": [
      "Enter the income: 200000000\n",
      "Enter the house age: 50\n",
      "Enter the number of rooms: 45\n",
      "Enter the population: 25\n"
     ]
    }
   ],
   "source": [
    "income = eval(input('Enter the income:'))\n",
    "house_age = eval(input('Enter the house age:'))\n",
    "rooms = eval(input('Enter the number of rooms:'))\n",
    "population = eval(input('Enter the population:'))\n",
    "query = pd.DataFrame({'Avg. Area Income':[income],\n",
    "                     'Avg. Area House Age':[house_age],\n",
    "                     'Avg. Area Number of Rooms':[rooms],\n",
    "                     'Area Population':[population]})"
   ]
  },
  {
   "cell_type": "code",
   "execution_count": 6,
   "id": "9b6c9ff6-7816-4b5b-bbbe-5e8f62f4a77b",
   "metadata": {},
   "outputs": [
    {
     "data": {
      "text/html": [
       "<div>\n",
       "<style scoped>\n",
       "    .dataframe tbody tr th:only-of-type {\n",
       "        vertical-align: middle;\n",
       "    }\n",
       "\n",
       "    .dataframe tbody tr th {\n",
       "        vertical-align: top;\n",
       "    }\n",
       "\n",
       "    .dataframe thead th {\n",
       "        text-align: right;\n",
       "    }\n",
       "</style>\n",
       "<table border=\"1\" class=\"dataframe\">\n",
       "  <thead>\n",
       "    <tr style=\"text-align: right;\">\n",
       "      <th></th>\n",
       "      <th>Avg. Area Income</th>\n",
       "      <th>Avg. Area House Age</th>\n",
       "      <th>Avg. Area Number of Rooms</th>\n",
       "      <th>Area Population</th>\n",
       "    </tr>\n",
       "  </thead>\n",
       "  <tbody>\n",
       "    <tr>\n",
       "      <th>0</th>\n",
       "      <td>200000000</td>\n",
       "      <td>50</td>\n",
       "      <td>45</td>\n",
       "      <td>25</td>\n",
       "    </tr>\n",
       "  </tbody>\n",
       "</table>\n",
       "</div>"
      ],
      "text/plain": [
       "   Avg. Area Income  Avg. Area House Age  Avg. Area Number of Rooms  \\\n",
       "0         200000000                   50                         45   \n",
       "\n",
       "   Area Population  \n",
       "0               25  "
      ]
     },
     "execution_count": 6,
     "metadata": {},
     "output_type": "execute_result"
    }
   ],
   "source": [
    "query"
   ]
  },
  {
   "cell_type": "code",
   "execution_count": 7,
   "id": "e30bd2fc-0a1b-4631-85fb-2be222856229",
   "metadata": {},
   "outputs": [
    {
     "data": {
      "text/plain": [
       "4329435106.878414"
      ]
     },
     "execution_count": 7,
     "metadata": {},
     "output_type": "execute_result"
    }
   ],
   "source": [
    "model.predict(query)[0]"
   ]
  },
  {
   "cell_type": "code",
   "execution_count": 8,
   "id": "04debf14-a227-4df7-b8f0-6cbedadcd432",
   "metadata": {},
   "outputs": [
    {
     "name": "stdout",
     "output_type": "stream",
     "text": [
      "Price for the house can be: 4329435106.88$\n"
     ]
    }
   ],
   "source": [
    "print('Price for the house can be: %.2f$'%(model.predict(query)[0]))"
   ]
  },
  {
   "cell_type": "code",
   "execution_count": null,
   "id": "cbd178bb-d8c3-4d32-bc66-e504961c3437",
   "metadata": {},
   "outputs": [],
   "source": []
  },
  {
   "cell_type": "code",
   "execution_count": null,
   "id": "62aa12e2-6cd1-4b7b-9c24-81786ba3ee35",
   "metadata": {},
   "outputs": [],
   "source": []
  },
  {
   "cell_type": "code",
   "execution_count": null,
   "id": "7c20c437-1e05-498e-903b-b83dcad9c3a9",
   "metadata": {},
   "outputs": [],
   "source": []
  },
  {
   "cell_type": "code",
   "execution_count": null,
   "id": "d1b1173c-9abf-4333-b7af-0be942ae9a17",
   "metadata": {},
   "outputs": [],
   "source": []
  }
 ],
 "metadata": {
  "kernelspec": {
   "display_name": "Python 3",
   "language": "python",
   "name": "python3"
  },
  "language_info": {
   "codemirror_mode": {
    "name": "ipython",
    "version": 3
   },
   "file_extension": ".py",
   "mimetype": "text/x-python",
   "name": "python",
   "nbconvert_exporter": "python",
   "pygments_lexer": "ipython3",
   "version": "3.8.8"
  }
 },
 "nbformat": 4,
 "nbformat_minor": 5
}
