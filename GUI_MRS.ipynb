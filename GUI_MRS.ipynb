{
 "cells": [
  {
   "cell_type": "markdown",
   "id": "21c34130-9f55-4c37-b8cf-381e88b55f8c",
   "metadata": {},
   "source": [
    "import pandas as pd\n",
    "import tkinter as tk\n",
    "import warnings \n",
    "warnings.filterwarnings('ignore')\n",
    "\n",
    "###################\n",
    "\n",
    "app = tk.Tk()\n",
    "app.title('Movie Recommendation System')\n",
    "app.geometry('600x400')\n",
    "\n",
    "####################\n",
    "\n",
    "cols = 'user_id item_id rating timestamp'.split()\n",
    "df = pd.read_csv('u.data',sep='\\t\\t',names=cols)\n",
    "cols_movie = ['item_id', 'title']+[str(i) for i in range(22)]\n",
    "movie_titles = pd.read_csv('u.item',sep='|',names=cols_movie)\n",
    "data = pd.merge(df,movie_titles, on='item_id')\n",
    "rating = pd.DataFrame(data.groupby('title')['rating'].mean())\n",
    "rating['count'] = data['title'].value_counts()\n",
    "pivot_df = data.pivot_table(index = 'user_id', columns = 'title', values= 'rating')\n",
    "\n",
    "#####################\n",
    "\n",
    "\n",
    "tk.Label(app, text='Movie You Watched -', font=('Times New Roman',10,'bold')).place(x=25,y=30)\n",
    "tk.Label(app, text='Movie Recommended -', font=('Times New Roman',10,'bold')).place(x=25,y=90)\n",
    "tk.Label(app, text='Movie Also try -', font=('Times New Roman',10,'bold')).place(x=25,y=150)\n",
    "####################\n",
    "\n",
    "movie_var = tk.Variable(app)\n",
    "tk.Entry(app, textvariable = movie_var, width = 25).place(x=190,y=30)\n",
    "\n",
    "recommend_var = tk.Variable(app)\n",
    "recommend_var.set('Type Movie Name....')\n",
    "tk.Label(app, textvariable = recommend_var, width = 35,font=('Times New Roman',10)).place(x=150,y=90)\n",
    "\n",
    "also_try_var = tk.Variable(app)\n",
    "also_try_var.set('Type Movie Name....')\n",
    "tk.Label(app, textvariable = also_try_var, width = 35,font=('Times New Roman',10)).place(x=150,y=150)\n",
    "\n",
    "def find_recommendation():\n",
    "    movie = movie_var.get().lower().strip()\n",
    "    if movie:\n",
    "        try:\n",
    "            movie = movie_titles['title'][movie_titles['title'].apply(lambda x:movie in x.lower())].values[0]\n",
    "             #### .values set it to numpy array and then accessing its [0]value ,\n",
    "             ### if had done by [0] directly it would have showed movie_titles['title'] 1st element i.e first movie name so different for different names\n",
    "            movie_var.set(movie)                                                                                    \n",
    "        except IndexError:\n",
    "            recommend_var.set('Movie not Found')\n",
    "            Movie_also_var.set('Movie not Found')\n",
    "        else: \n",
    "            corr_df = pd.DataFrame(pivot_df.corrwith(pivot_df[movie]), columns=['correlation'])\n",
    "            corr_df.dropna(inplace=True)\n",
    "            corr_df = corr_df.join(rating['count'])\n",
    "            recommend_var.set(corr_df[corr_df['count']>200].sort_values('correlation', ascending=False).index[1])\n",
    "            also_try_var.set(corr_df[corr_df['correlation']>0.55].sort_values('correlation', ascending=False).index[0])\n",
    "           \n",
    "        \n",
    "tk.Button(app, text='Find Suggestions',font=('Helvetica', 8, 'bold'), command=find_recommendation).place(x=250, y=250)\n",
    "\n",
    "app.mainloop()\n"
   ]
  },
  {
   "cell_type": "code",
   "execution_count": 54,
   "id": "dfc308a2-b937-46e5-b075-ee63fcc85c9f",
   "metadata": {},
   "outputs": [],
   "source": [
    "import pandas as pd\n",
    "import tkinter as tk\n",
    "import warnings\n",
    "\n",
    "warnings.filterwarnings('ignore')"
   ]
  },
  {
   "cell_type": "code",
   "execution_count": 65,
   "id": "837f6ef5-f125-4231-998e-9e051bfe0733",
   "metadata": {},
   "outputs": [
    {
     "name": "stdout",
     "output_type": "stream",
     "text": [
      "Toy Story (1995)\n",
      "Now we'll find the suggestions\n",
      "Toy Story (1995)\n",
      "Now we'll find the suggestions\n",
      "Toy Story (1995)\n",
      "Now we'll find the suggestions\n",
      "Toy Story (1995)\n",
      "Now we'll find the suggestions\n",
      "Home Alone (1990)\n",
      "Now we'll find the suggestions\n",
      "Little Women (1994)\n",
      "Now we'll find the suggestions\n"
     ]
    }
   ],
   "source": [
    "cols = 'user_id item_id rating timestamp'.split()\n",
    "df = pd.read_csv('u.data',sep = '\\t',names=cols)\n",
    "cols_movie = ['item_id','title'] + [str(i) for i in range(22)]\n",
    "movie_titles = pd.read_csv('u.item',sep = '|',names = cols_movie)\n",
    "data = movie_titles[['item_id','title']]\n",
    "data1 = pd.merge(df,movie_titles, on = 'item_id')\n",
    "rating = pd.DataFrame(data1.groupby('title')['rating'].mean())\n",
    "rating['count'] = data1['title'].value_counts()\n",
    "pivot_df = data1.pivot_table(index = 'user_id',columns ='title',values = 'rating')\n",
    "\n",
    "\n",
    "app = tk.Tk()\n",
    "app.title('Movie Recommendation System')\n",
    "app.geometry('400x300')\n",
    "\n",
    "tk.Label(app,text = 'Movie You Watched:',font='bold').place(x=25,y=25)\n",
    "tk.Label(app,text = 'Recommended:',font='bold').place(x=25,y=100)\n",
    "tk.Label(app,text = 'Also try:',font='bold').place(x=25,y=150)\n",
    "\n",
    "movie_var = tk.Variable(app)\n",
    "tk.Entry(app,textvariable = movie_var, width = 28).place(x=175,y=27)\n",
    "\n",
    "recommend_var = tk.Variable(app)\n",
    "recommend_var.set('Type movie name.....')\n",
    "tk.Label(app, textvariable = recommend_var).place(x=150,y=102)\n",
    "\n",
    "also_try_var = tk.Variable(app)\n",
    "also_try_var.set('Type movie name.....')\n",
    "tk.Label(app, textvariable = also_try_var).place(x=150,y=152)\n",
    "\n",
    "def find_recommendation():\n",
    "    movie = movie_var.get().lower().strip()\n",
    "    \n",
    "    try:\n",
    "        movie = data['title'][data['title'].apply(lambda x: movie in x.lower())].values[0]\n",
    "        print(movie)\n",
    "        movie_var.set(movie)\n",
    "        \n",
    "    except IndexError:\n",
    "        also_try_var.set('Movie Not Found')\n",
    "        recommend_var.set('Movie Not Found')\n",
    "\n",
    "            \n",
    "    else:\n",
    "        print('Now we\\'ll find the suggestions')\n",
    "        corr_df = pd.DataFrame(pivot_df.corrwith(pivot_df[movie]), columns = ['correlation'])\n",
    "        corr_df.dropna(inplace = True)\n",
    "        corr_df = corr_df.join(rating['count'])\n",
    "        recommend_var.set(corr_df[(corr_df['count']>200)&(corr_df['correlation']>0.4)].sort_values('correlation',ascending=False).index[1])\n",
    "        also_try_var.set(corr_df[corr_df['correlation']>0.4].sort_values('correlation',ascending=False).index[0])\n",
    "        \n",
    "\n",
    "tk.Button(app, text = 'Find Suggestions',bg = '#ee0033',fg = '#ffffff' ,font='bold', command = find_recommendation).place(x=140,y=200)\n",
    "\n",
    "\n",
    "app.mainloop()"
   ]
  },
  {
   "cell_type": "code",
   "execution_count": 47,
   "id": "fb560cbf-2008-4793-adf3-182c2998fb07",
   "metadata": {},
   "outputs": [
    {
     "data": {
      "text/plain": [
       "'Star Wars (1977)'"
      ]
     },
     "execution_count": 47,
     "metadata": {},
     "output_type": "execute_result"
    }
   ],
   "source": [
    "movie = 'star wars' \n",
    "data['title'][data['title'].apply(lambda x: movie in x.lower())].values[0]"
   ]
  },
  {
   "cell_type": "code",
   "execution_count": null,
   "id": "7579d4c7-96c8-4530-9960-ff344ba26d92",
   "metadata": {},
   "outputs": [],
   "source": []
  }
 ],
 "metadata": {
  "kernelspec": {
   "display_name": "Python 3",
   "language": "python",
   "name": "python3"
  },
  "language_info": {
   "codemirror_mode": {
    "name": "ipython",
    "version": 3
   },
   "file_extension": ".py",
   "mimetype": "text/x-python",
   "name": "python",
   "nbconvert_exporter": "python",
   "pygments_lexer": "ipython3",
   "version": "3.8.8"
  }
 },
 "nbformat": 4,
 "nbformat_minor": 5
}
